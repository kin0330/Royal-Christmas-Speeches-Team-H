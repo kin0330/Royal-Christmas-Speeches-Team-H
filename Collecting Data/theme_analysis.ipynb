{
 "cells": [
  {
   "cell_type": "markdown",
   "id": "42a01ce1",
   "metadata": {},
   "source": [
    "## Python Analysis"
   ]
  },
  {
   "cell_type": "markdown",
   "id": "13f8b007",
   "metadata": {},
   "source": [
    "After analyzing the cleaned text using Python, we also explored the following research questions."
   ]
  },
  {
   "cell_type": "markdown",
   "id": "5fe973a7",
   "metadata": {},
   "source": [
    "First, there is the import of the necessary Python runtime libraries."
   ]
  },
  {
   "cell_type": "code",
   "execution_count": 1,
   "id": "749eb532",
   "metadata": {},
   "outputs": [],
   "source": [
    "# natural language processing and text analysis with nltk\n",
    "import nltk\n",
    "from nltk.tokenize import sent_tokenize, word_tokenize\n",
    "\n",
    "# using os to process cleaned txt files\n",
    "import os\n",
    "\n",
    "# using string for faster processing of strings.\n",
    "import string\n",
    "\n",
    "# using plt and pandas to work with charts and tables\n",
    "import matplotlib.pyplot as plt\n",
    "import pandas as pd\n",
    "\n",
    "# counter required to calculate word frequency\n",
    "from collections import Counter"
   ]
  },
  {
   "cell_type": "markdown",
   "id": "7d5d3ae0",
   "metadata": {},
   "source": [
    "Extract the tokens and lemmas we extracted from the corpus, and import as dataframe. So that we can process them later directly through the DataFrame."
   ]
  },
  {
   "cell_type": "code",
   "execution_count": 106,
   "id": "c2e965ef",
   "metadata": {},
   "outputs": [
    {
     "data": {
      "text/html": [
       "<div>\n",
       "<style scoped>\n",
       "    .dataframe tbody tr th:only-of-type {\n",
       "        vertical-align: middle;\n",
       "    }\n",
       "\n",
       "    .dataframe tbody tr th {\n",
       "        vertical-align: top;\n",
       "    }\n",
       "\n",
       "    .dataframe thead th {\n",
       "        text-align: right;\n",
       "    }\n",
       "</style>\n",
       "<table border=\"1\" class=\"dataframe\">\n",
       "  <thead>\n",
       "    <tr style=\"text-align: right;\">\n",
       "      <th></th>\n",
       "      <th>year</th>\n",
       "      <th>monarch</th>\n",
       "      <th>media</th>\n",
       "      <th>channel</th>\n",
       "      <th>place</th>\n",
       "      <th>context</th>\n",
       "      <th>Title</th>\n",
       "      <th>CleanedAbstract</th>\n",
       "      <th>AbstractWordCount</th>\n",
       "      <th>CleanedIntro</th>\n",
       "      <th>IntroWordCount</th>\n",
       "      <th>CleanedMainText</th>\n",
       "      <th>MainTextWordCount</th>\n",
       "      <th>WordTokensMain</th>\n",
       "      <th>SentenceTokensMain</th>\n",
       "      <th>LemmasMain</th>\n",
       "    </tr>\n",
       "  </thead>\n",
       "  <tbody>\n",
       "    <tr>\n",
       "      <th>0</th>\n",
       "      <td>1952</td>\n",
       "      <td>Elizabeth II</td>\n",
       "      <td>Radio</td>\n",
       "      <td>BBC</td>\n",
       "      <td>NaN</td>\n",
       "      <td>NaN</td>\n",
       "      <td>1952</td>\n",
       "      <td>Since my accession ten months ago, your loyalt...</td>\n",
       "      <td>34.0</td>\n",
       "      <td>After her Accession on 6 February 1952, The Qu...</td>\n",
       "      <td>49.0</td>\n",
       "      <td>Each Christmas, at this time, my beloved fathe...</td>\n",
       "      <td>1230</td>\n",
       "      <td>['each', 'christmas', 'at', 'this', 'time', 'm...</td>\n",
       "      <td>[['each', 'christmas', 'at', 'this', 'time', '...</td>\n",
       "      <td>['each', 'christmas', 'at', 'this', 'time', 'm...</td>\n",
       "    </tr>\n",
       "    <tr>\n",
       "      <th>1</th>\n",
       "      <td>1953</td>\n",
       "      <td>Elizabeth II</td>\n",
       "      <td>Radio</td>\n",
       "      <td>BBC</td>\n",
       "      <td>Auckland, NZ</td>\n",
       "      <td>NaN</td>\n",
       "      <td>1953</td>\n",
       "      <td>At the same time I want to show that the Crown...</td>\n",
       "      <td>30.0</td>\n",
       "      <td>At the end of 1953 The Queen and The Duke of E...</td>\n",
       "      <td>49.0</td>\n",
       "      <td>Last Christmas I spoke to you from England; th...</td>\n",
       "      <td>1433</td>\n",
       "      <td>['last', 'christmas', 'i', 'spoke', 'to', 'you...</td>\n",
       "      <td>[['last', 'christmas', 'i', 'spoke', 'to', 'yo...</td>\n",
       "      <td>['last', 'christmas', 'i', 'spoke', 'to', 'you...</td>\n",
       "    </tr>\n",
       "    <tr>\n",
       "      <th>2</th>\n",
       "      <td>1954</td>\n",
       "      <td>Elizabeth II</td>\n",
       "      <td>Radio</td>\n",
       "      <td>BBC</td>\n",
       "      <td>Sandringham House</td>\n",
       "      <td>NaN</td>\n",
       "      <td>1954</td>\n",
       "      <td>So, our Commonwealth hearth becomes more preci...</td>\n",
       "      <td>39.0</td>\n",
       "      <td>The Queen's Christmas Broadcast in 1954 came a...</td>\n",
       "      <td>43.0</td>\n",
       "      <td>It is now two years since my husband and I spe...</td>\n",
       "      <td>1180</td>\n",
       "      <td>['it', 'is', 'now', 'two', 'years', 'since', '...</td>\n",
       "      <td>[['it', 'is', 'now', 'two', 'years', 'since', ...</td>\n",
       "      <td>['it', 'is', 'now', 'two', 'year', 'since', 'm...</td>\n",
       "    </tr>\n",
       "    <tr>\n",
       "      <th>3</th>\n",
       "      <td>1955</td>\n",
       "      <td>Elizabeth II</td>\n",
       "      <td>Radio</td>\n",
       "      <td>BBC</td>\n",
       "      <td>Sandringham House</td>\n",
       "      <td>NaN</td>\n",
       "      <td>1955</td>\n",
       "      <td>I always feel that just for these few minutes,...</td>\n",
       "      <td>28.0</td>\n",
       "      <td>In 1955 The Queen's Christmas Message was broa...</td>\n",
       "      <td>27.0</td>\n",
       "      <td>No doubt you have been listening, as I have, t...</td>\n",
       "      <td>1297</td>\n",
       "      <td>['no', 'doubt', 'you', 'have', 'been', 'listen...</td>\n",
       "      <td>[['no', 'doubt', 'you', 'have', 'been', 'liste...</td>\n",
       "      <td>['no', 'doubt', 'you', 'have', 'been', 'listen...</td>\n",
       "    </tr>\n",
       "    <tr>\n",
       "      <th>4</th>\n",
       "      <td>1956</td>\n",
       "      <td>Elizabeth II</td>\n",
       "      <td>Radio</td>\n",
       "      <td>BBC</td>\n",
       "      <td>Sandringham House</td>\n",
       "      <td>NaN</td>\n",
       "      <td>1956</td>\n",
       "      <td>Neither the long and troubled centuries that h...</td>\n",
       "      <td>41.0</td>\n",
       "      <td>On Christmas Day in 1956 The Duke of Edinburgh...</td>\n",
       "      <td>44.0</td>\n",
       "      <td>Once again messages of Christmas greeting have...</td>\n",
       "      <td>1408</td>\n",
       "      <td>['once', 'again', 'messages', 'of', 'christmas...</td>\n",
       "      <td>[['once', 'again', 'messages', 'of', 'christma...</td>\n",
       "      <td>['once', 'again', 'message', 'of', 'christmas'...</td>\n",
       "    </tr>\n",
       "    <tr>\n",
       "      <th>...</th>\n",
       "      <td>...</td>\n",
       "      <td>...</td>\n",
       "      <td>...</td>\n",
       "      <td>...</td>\n",
       "      <td>...</td>\n",
       "      <td>...</td>\n",
       "      <td>...</td>\n",
       "      <td>...</td>\n",
       "      <td>...</td>\n",
       "      <td>...</td>\n",
       "      <td>...</td>\n",
       "      <td>...</td>\n",
       "      <td>...</td>\n",
       "      <td>...</td>\n",
       "      <td>...</td>\n",
       "      <td>...</td>\n",
       "    </tr>\n",
       "    <tr>\n",
       "      <th>67</th>\n",
       "      <td>2019</td>\n",
       "      <td>Elizabeth II</td>\n",
       "      <td>TV</td>\n",
       "      <td>BBC</td>\n",
       "      <td>Windsor Castle</td>\n",
       "      <td>NaN</td>\n",
       "      <td>2019</td>\n",
       "      <td>NaN</td>\n",
       "      <td>NaN</td>\n",
       "      <td>NaN</td>\n",
       "      <td>NaN</td>\n",
       "      <td>As a child, I never imagined that one day a ma...</td>\n",
       "      <td>856</td>\n",
       "      <td>['as', 'a', 'child', 'i', 'never', 'imagined',...</td>\n",
       "      <td>[['as', 'a', 'child', 'i', 'never', 'imagined'...</td>\n",
       "      <td>['a', 'a', 'child', 'i', 'never', 'imagined', ...</td>\n",
       "    </tr>\n",
       "    <tr>\n",
       "      <th>68</th>\n",
       "      <td>2020</td>\n",
       "      <td>Elizabeth II</td>\n",
       "      <td>TV</td>\n",
       "      <td>BBC</td>\n",
       "      <td>NaN</td>\n",
       "      <td>first time available on Amazon's  \"Alexa\" device</td>\n",
       "      <td>2020</td>\n",
       "      <td>Remarkably, a year that has necessarily kept p...</td>\n",
       "      <td>38.0</td>\n",
       "      <td>NaN</td>\n",
       "      <td>NaN</td>\n",
       "      <td>Every year we herald the coming of Christmas b...</td>\n",
       "      <td>858</td>\n",
       "      <td>['every', 'year', 'we', 'herald', 'the', 'comi...</td>\n",
       "      <td>[['every', 'year', 'we', 'herald', 'the', 'com...</td>\n",
       "      <td>['every', 'year', 'we', 'herald', 'the', 'comi...</td>\n",
       "    </tr>\n",
       "    <tr>\n",
       "      <th>69</th>\n",
       "      <td>2021</td>\n",
       "      <td>Elizabeth II</td>\n",
       "      <td>TV</td>\n",
       "      <td>ITN</td>\n",
       "      <td>Windsor Castle</td>\n",
       "      <td>NaN</td>\n",
       "      <td>2021</td>\n",
       "      <td>And for me and my family, even with one famili...</td>\n",
       "      <td>49.0</td>\n",
       "      <td>NaN</td>\n",
       "      <td>NaN</td>\n",
       "      <td>Although it’s a time of great happiness and go...</td>\n",
       "      <td>702</td>\n",
       "      <td>['although', 'it', '’', 's', 'a', 'time', 'of'...</td>\n",
       "      <td>[['although', 'it', '’', 's', 'a', 'time', 'of...</td>\n",
       "      <td>['although', 'it', '’', 's', 'a', 'time', 'of'...</td>\n",
       "    </tr>\n",
       "    <tr>\n",
       "      <th>70</th>\n",
       "      <td>2022</td>\n",
       "      <td>Charles VI</td>\n",
       "      <td>TV</td>\n",
       "      <td>BBC</td>\n",
       "      <td>Windsor Castle</td>\n",
       "      <td>NaN</td>\n",
       "      <td>2022</td>\n",
       "      <td>Christmas is a particularly poignant time for ...</td>\n",
       "      <td>33.0</td>\n",
       "      <td>His Majesty reflects on Queen Elizabeth II's f...</td>\n",
       "      <td>21.0</td>\n",
       "      <td>I am standing here in this exquisite Chapel of...</td>\n",
       "      <td>614</td>\n",
       "      <td>['i', 'am', 'standing', 'here', 'in', 'this', ...</td>\n",
       "      <td>[['i', 'am', 'standing', 'here', 'in', 'this',...</td>\n",
       "      <td>['i', 'am', 'standing', 'here', 'in', 'this', ...</td>\n",
       "    </tr>\n",
       "    <tr>\n",
       "      <th>71</th>\n",
       "      <td>2023</td>\n",
       "      <td>Charles VI</td>\n",
       "      <td>TV</td>\n",
       "      <td>ITN</td>\n",
       "      <td>Buckingham Palace</td>\n",
       "      <td>NaN</td>\n",
       "      <td>2023</td>\n",
       "      <td>And at a time of increasingly tragic conflict ...</td>\n",
       "      <td>26.0</td>\n",
       "      <td>NaN</td>\n",
       "      <td>NaN</td>\n",
       "      <td>Many of the Festivals of the great Religions o...</td>\n",
       "      <td>675</td>\n",
       "      <td>['many', 'of', 'the', 'festivals', 'of', 'the'...</td>\n",
       "      <td>[['many', 'of', 'the', 'festivals', 'of', 'the...</td>\n",
       "      <td>['many', 'of', 'the', 'festival', 'of', 'the',...</td>\n",
       "    </tr>\n",
       "  </tbody>\n",
       "</table>\n",
       "<p>72 rows × 16 columns</p>\n",
       "</div>"
      ],
      "text/plain": [
       "    year       monarch  media channel              place  \\\n",
       "0   1952  Elizabeth II  Radio     BBC                NaN   \n",
       "1   1953  Elizabeth II  Radio     BBC       Auckland, NZ   \n",
       "2   1954  Elizabeth II  Radio     BBC  Sandringham House   \n",
       "3   1955  Elizabeth II  Radio     BBC  Sandringham House   \n",
       "4   1956  Elizabeth II  Radio     BBC  Sandringham House   \n",
       "..   ...           ...    ...     ...                ...   \n",
       "67  2019  Elizabeth II     TV     BBC     Windsor Castle   \n",
       "68  2020  Elizabeth II     TV     BBC                NaN   \n",
       "69  2021  Elizabeth II     TV     ITN     Windsor Castle   \n",
       "70  2022    Charles VI     TV     BBC     Windsor Castle   \n",
       "71  2023    Charles VI     TV     ITN  Buckingham Palace   \n",
       "\n",
       "                                             context  Title  \\\n",
       "0                                                NaN   1952   \n",
       "1                                                NaN   1953   \n",
       "2                                                NaN   1954   \n",
       "3                                                NaN   1955   \n",
       "4                                                NaN   1956   \n",
       "..                                               ...    ...   \n",
       "67                                               NaN   2019   \n",
       "68  first time available on Amazon's  \"Alexa\" device   2020   \n",
       "69                                               NaN   2021   \n",
       "70                                               NaN   2022   \n",
       "71                                               NaN   2023   \n",
       "\n",
       "                                      CleanedAbstract  AbstractWordCount  \\\n",
       "0   Since my accession ten months ago, your loyalt...               34.0   \n",
       "1   At the same time I want to show that the Crown...               30.0   \n",
       "2   So, our Commonwealth hearth becomes more preci...               39.0   \n",
       "3   I always feel that just for these few minutes,...               28.0   \n",
       "4   Neither the long and troubled centuries that h...               41.0   \n",
       "..                                                ...                ...   \n",
       "67                                                NaN                NaN   \n",
       "68  Remarkably, a year that has necessarily kept p...               38.0   \n",
       "69  And for me and my family, even with one famili...               49.0   \n",
       "70  Christmas is a particularly poignant time for ...               33.0   \n",
       "71  And at a time of increasingly tragic conflict ...               26.0   \n",
       "\n",
       "                                         CleanedIntro  IntroWordCount  \\\n",
       "0   After her Accession on 6 February 1952, The Qu...            49.0   \n",
       "1   At the end of 1953 The Queen and The Duke of E...            49.0   \n",
       "2   The Queen's Christmas Broadcast in 1954 came a...            43.0   \n",
       "3   In 1955 The Queen's Christmas Message was broa...            27.0   \n",
       "4   On Christmas Day in 1956 The Duke of Edinburgh...            44.0   \n",
       "..                                                ...             ...   \n",
       "67                                                NaN             NaN   \n",
       "68                                                NaN             NaN   \n",
       "69                                                NaN             NaN   \n",
       "70  His Majesty reflects on Queen Elizabeth II's f...            21.0   \n",
       "71                                                NaN             NaN   \n",
       "\n",
       "                                      CleanedMainText  MainTextWordCount  \\\n",
       "0   Each Christmas, at this time, my beloved fathe...               1230   \n",
       "1   Last Christmas I spoke to you from England; th...               1433   \n",
       "2   It is now two years since my husband and I spe...               1180   \n",
       "3   No doubt you have been listening, as I have, t...               1297   \n",
       "4   Once again messages of Christmas greeting have...               1408   \n",
       "..                                                ...                ...   \n",
       "67  As a child, I never imagined that one day a ma...                856   \n",
       "68  Every year we herald the coming of Christmas b...                858   \n",
       "69  Although it’s a time of great happiness and go...                702   \n",
       "70  I am standing here in this exquisite Chapel of...                614   \n",
       "71  Many of the Festivals of the great Religions o...                675   \n",
       "\n",
       "                                       WordTokensMain  \\\n",
       "0   ['each', 'christmas', 'at', 'this', 'time', 'm...   \n",
       "1   ['last', 'christmas', 'i', 'spoke', 'to', 'you...   \n",
       "2   ['it', 'is', 'now', 'two', 'years', 'since', '...   \n",
       "3   ['no', 'doubt', 'you', 'have', 'been', 'listen...   \n",
       "4   ['once', 'again', 'messages', 'of', 'christmas...   \n",
       "..                                                ...   \n",
       "67  ['as', 'a', 'child', 'i', 'never', 'imagined',...   \n",
       "68  ['every', 'year', 'we', 'herald', 'the', 'comi...   \n",
       "69  ['although', 'it', '’', 's', 'a', 'time', 'of'...   \n",
       "70  ['i', 'am', 'standing', 'here', 'in', 'this', ...   \n",
       "71  ['many', 'of', 'the', 'festivals', 'of', 'the'...   \n",
       "\n",
       "                                   SentenceTokensMain  \\\n",
       "0   [['each', 'christmas', 'at', 'this', 'time', '...   \n",
       "1   [['last', 'christmas', 'i', 'spoke', 'to', 'yo...   \n",
       "2   [['it', 'is', 'now', 'two', 'years', 'since', ...   \n",
       "3   [['no', 'doubt', 'you', 'have', 'been', 'liste...   \n",
       "4   [['once', 'again', 'messages', 'of', 'christma...   \n",
       "..                                                ...   \n",
       "67  [['as', 'a', 'child', 'i', 'never', 'imagined'...   \n",
       "68  [['every', 'year', 'we', 'herald', 'the', 'com...   \n",
       "69  [['although', 'it', '’', 's', 'a', 'time', 'of...   \n",
       "70  [['i', 'am', 'standing', 'here', 'in', 'this',...   \n",
       "71  [['many', 'of', 'the', 'festivals', 'of', 'the...   \n",
       "\n",
       "                                           LemmasMain  \n",
       "0   ['each', 'christmas', 'at', 'this', 'time', 'm...  \n",
       "1   ['last', 'christmas', 'i', 'spoke', 'to', 'you...  \n",
       "2   ['it', 'is', 'now', 'two', 'year', 'since', 'm...  \n",
       "3   ['no', 'doubt', 'you', 'have', 'been', 'listen...  \n",
       "4   ['once', 'again', 'message', 'of', 'christmas'...  \n",
       "..                                                ...  \n",
       "67  ['a', 'a', 'child', 'i', 'never', 'imagined', ...  \n",
       "68  ['every', 'year', 'we', 'herald', 'the', 'comi...  \n",
       "69  ['although', 'it', '’', 's', 'a', 'time', 'of'...  \n",
       "70  ['i', 'am', 'standing', 'here', 'in', 'this', ...  \n",
       "71  ['many', 'of', 'the', 'festival', 'of', 'the',...  \n",
       "\n",
       "[72 rows x 16 columns]"
      ]
     },
     "execution_count": 106,
     "metadata": {},
     "output_type": "execute_result"
    }
   ],
   "source": [
    "# Import our corpus data\n",
    "df_corpus = pd.read_csv('C:/Users/70794/manually/enriched_corpus (1).csv') #folder path\n",
    "\n",
    "df_corpus"
   ]
  },
  {
   "cell_type": "markdown",
   "id": "918d4c06",
   "metadata": {},
   "source": [
    "And finally a stoplist created based on Voyant's stoplist.Compared to NLTK's stopwords, this stoplist covers a more comprehensive range of content and is better suited to our corpus.All of the following word frequency analyses will be based on this stoplist."
   ]
  },
  {
   "cell_type": "code",
   "execution_count": 107,
   "id": "e9206236",
   "metadata": {},
   "outputs": [],
   "source": [
    "stoplist = [\n",
    "        \"!\", \"$\", \"%\", \"&\", \",\", \"-\", \".\", \"0\", \"1\", \"10\", \"100\", \"11\", \"12\", \"13\", \"14\", \"15\", \"16\", \"17\", \"18\", \"19\", \n",
    "        \"1990\", \"1991\", \"1992\", \"1993\", \"1994\", \"1995\", \"1996\", \"1997\", \"1998\", \"1999\", \"2\", \"20\", \"2000\", \"2001\", \"2002\", \n",
    "        \"2003\", \"2004\", \"2005\", \"2006\", \"2007\", \"2008\", \"2009\", \"2010\", \"2011\", \"2012\", \"2013\", \"2014\", \"2015\", \"2016\", \n",
    "        \"2017\", \"2018\", \"2019\", \"2020\", \"21\", \"22\", \"23\", \"24\", \"25\", \"26\", \"27\", \"28\", \"29\", \"3\", \"30\", \"31\", \"32\", \"33\", \n",
    "        \"34\", \"35\", \"36\", \"37\", \"38\", \"39\", \"4\", \"40\", \"41\", \"42\", \"43\", \"44\", \"45\", \"46\", \"47\", \"48\", \"49\", \"5\", \"50\", \n",
    "        \"51\", \"52\", \"53\", \"54\", \"55\", \"56\", \"57\", \"58\", \"59\", \"6\", \"60\", \"61\", \"62\", \"63\", \"64\", \"65\", \"66\", \"67\", \"68\", \n",
    "        \"69\", \"7\", \"70\", \"71\", \"72\", \"73\", \"74\", \"75\", \"76\", \"77\", \"78\", \"8\", \"80\", \"81\", \"82\", \"83\", \"84\", \"85\", \"86\", \n",
    "        \"87\", \"88\", \"89\", \"9\", \"90\", \"91\", \"92\", \"93\", \"94\", \"95\", \"96\", \"97\", \"98\", \"99\", \":\", \";\", \"<\", \">\", \"@\", \"\\(\", \n",
    "        \"\\)\", \"\\*\", \"\\+\", \"\\?\", \"\\[\", \"\\]\", \"\\^\", \"\\{\", \"\\}\", \"a\", \"about\", \"above\", \"across\", \"after\", \"afterwards\", \"again\", \n",
    "        \"against\", \"all\", \"almost\", \"alone\", \"along\", \"already\", \"also\", \"although\", \"always\", \"am\", \"among\", \"amongst\", \"amoungst\", \n",
    "        \"amount\", \"an\", \"and\", \"another\", \"any\", \"anyhow\", \"anyone\", \"anything\", \"anyway\", \"anywhere\", \"are\", \"around\", \"as\", \"at\", \n",
    "        \"b\", \"back\", \"be\", \"because\", \"been\", \"before\", \"beforehand\", \"being\", \"beside\", \"besides\", \"between\", \"both\", \"bottom\", \"but\", \n",
    "        \"by\", \"c\", \"call\", \"can\", \"cannot\", \"cant\", \"co\", \"con\", \"could\", \"couldnt\", \"d\", \"de\", \"did\", \"didn't\", \"do\", \"does\", \"doesn't\", \n",
    "        \"don't\", \"done\", \"down\", \"due\", \"during\", \"e\", \"each\", \"eg\", \"eight\", \"either\", \"eleven\", \"else\", \"elsewhere\", \"enough\", \"etc\", \n",
    "        \"even\", \"ever\", \"every\", \"everyone\", \"everything\", \"everywhere\", \"except\", \"f\", \"few\", \"fifteen\", \"fify\", \"fill\", \"find\", \"fire\", \n",
    "        \"first\", \"five\", \"for\", \"former\", \"formerly\", \"forty\", \"found\", \"four\", \"from\", \"front\", \"full\", \"further\", \"g\", \"get\", \"give\", \"go\", \n",
    "        \"h\", \"had\", \"has\", \"hasnt\", \"have\", \"he\", \"hence\", \"her\", \"here\", \"hereafter\", \"hereby\", \"herein\", \"hereupon\", \"hers\", \"herself\", \"him\", \n",
    "        \"himself\", \"his\", \"how\", \"however\", \"hundred\", \"i\", \"ie\", \"if\", \"in\", \"inc\", \"indeed\", \"into\", \"is\", \"it\", \"its\", \"itself\", \"j\", \"k\", \n",
    "        \"keep\", \"l\", \"last\", \"latter\", \"latterly\", \"least\", \"less\", \"ltd\", \"m\", \"made\", \"many\", \"may\", \"me\", \"meanwhile\", \"might\", \"mill\", \"mine\", \n",
    "        \"more\", \"moreover\", \"most\", \"mostly\", \"move\", \"much\", \"must\", \"my\", \"myself\", \"n\", \"name\", \"namely\", \"neither\", \"never\", \"nevertheless\", \n",
    "        \"next\", \"nine\", \"no\", \"nobody\", \"none\", \"noone\", \"nor\", \"not\", \"nothing\", \"now\", \"nowhere\", \"o\", \"of\", \"off\", \"often\", \"on\", \"once\", \"one\", \n",
    "        \"only\", \"onto\", \"or\", \"other\", \"others\", \"otherwise\", \"our\", \"ours\", \"ourselves\", \"out\", \"over\", \"own\", \"p\", \"part\", \"per\", \"perhaps\", \n",
    "        \"please\", \"put\", \"q\", \"r\", \"rather\", \"re\", \"s\", \"same\", \"see\", \"seem\", \"seemed\", \"seeming\", \"seems\", \"serious\", \"several\", \"she\", \"should\", \n",
    "        \"since\", \"six\", \"sixty\", \"so\", \"some\", \"somehow\", \"someone\", \"something\", \"sometime\", \"sometimes\", \"somewhere\", \"still\", \"such\", \"system\", \n",
    "        \"t\", \"take\", \"ten\", \"than\", \"that\", \"the\", \"thee\", \"their\", \"them\", \"themselves\", \"then\", \"thence\", \"there\", \"thereafter\", \"thereby\", \"therefore\", \n",
    "        \"therein\", \"thereupon\", \"these\", \"they\", \"thing\", \"third\", \"this\", \"those\",\"thou\", \"though\", \"three\", \"through\", \"throughout\", \"thru\", \"thus\", \"thy\", \"to\", \"together\", \n",
    "    \"too\", \"toward\", \"towards\", \"twelve\", \"twenty\", \"two\", \"u\", \"un\", \"under\", \"until\", \"up\", \n",
    "    \"upon\", \"us\", \"v\", \"very\", \"via\", \"w\", \"was\", \"we\", \"well\", \"were\", \"what\", \"whatever\", \n",
    "    \"when\", \"whence\", \"whenever\", \"where\", \"whereafter\", \"whereas\", \"whereby\", \"wherein\", \n",
    "    \"whereupon\", \"wherever\", \"whether\", \"which\", \"while\", \"whither\", \"who\", \"whoever\", \"whole\", \n",
    "    \"whom\", \"whose\", \"why\", \"will\", \"with\", \"within\", \"without\", \"would\", \"x\", \"y\", \"yet\", \"you\", \n",
    "    \"your\", \"yours\", \"yourself\", \"yourselves\", \"z\", \"|\",\"...\"\n",
    "]\n"
   ]
  },
  {
   "cell_type": "markdown",
   "id": "8758f383",
   "metadata": {},
   "source": [
    "### Research Question 1:\n",
    "Catsiapis mentions ‘family’, ’Commonwealth’ and ’Christmas’ as overarching themes in her close reading of the Queen’s Christmas speeches.\n",
    "Can we identify the same themes with computational methods?\n"
   ]
  },
  {
   "cell_type": "markdown",
   "id": "73484fd5",
   "metadata": {},
   "source": [
    "First we will calculate the word frequency of the three words."
   ]
  },
  {
   "cell_type": "code",
   "execution_count": 108,
   "id": "d06f4d15",
   "metadata": {},
   "outputs": [
    {
     "name": "stdout",
     "output_type": "stream",
     "text": [
      "family: 192\n",
      "family average: 2.6666666666666665\n",
      "commonwealth: 481\n",
      "commonwealth average: 6.680555555555555\n",
      "christmas: 568\n",
      "christmas average: 7.888888888888889\n"
     ]
    }
   ],
   "source": [
    "# Create the target words list\n",
    "target_words = [\"family\", \"commonwealth\", \"christmas\"]\n",
    "\n",
    "# Use counter to calculate words frequency\n",
    "word_frequencies = Counter()\n",
    "\n",
    "# Use the column \"WordTokensMain\" to calculate\n",
    "for index, row in df_corpus.iterrows():\n",
    "    text_tokens = row['WordTokensMain']\n",
    "    word_frequencies.update(text_tokens)\n",
    "\n",
    "# Print the word frequency and average number of occurrences per year\n",
    "for word in target_words:\n",
    "    total_frequency = sum(df_corpus['WordTokensMain'].apply(lambda x: x.count(word)))\n",
    "    average_frequency = total_frequency / len(df_corpus)\n",
    "    print(f\"{word}: {total_frequency}\")\n",
    "    print(f\"{word} average: {average_frequency}\")"
   ]
  },
  {
   "cell_type": "markdown",
   "id": "59fcc479",
   "metadata": {},
   "source": [
    "When we extract the top ten high-frequency words from all the documents, we can also notice that family is not mentioned as much as some other words."
   ]
  },
  {
   "cell_type": "code",
   "execution_count": 123,
   "id": "6c3d0cdd",
   "metadata": {},
   "outputs": [
    {
     "name": "stdout",
     "output_type": "stream",
     "text": [
      "Top 10 high-frequency words after stoplist filtering:\n",
      "christmas: 521\n",
      "people: 411\n",
      "commonwealth: 380\n",
      "great: 260\n",
      "world: 259\n",
      "year: 235\n",
      "hope: 218\n",
      "today: 186\n",
      "family: 183\n",
      "message: 177\n"
     ]
    }
   ],
   "source": [
    "word_frequencies = Counter()\n",
    "\n",
    "# Use apply to iterate through each row of the DataFrame\n",
    "def process_text_tokens(text_tokens):\n",
    "    text_tokens = eval(text_tokens)\n",
    "    # filter by stoplist\n",
    "    filtered_words = [word for word in text_tokens if word not in stoplist]\n",
    "    word_frequencies.update(filtered_words)\n",
    "\n",
    "df_corpus['WordTokensMain'].apply(process_text_tokens)\n",
    "\n",
    "# Print result\n",
    "top_ten_words = word_frequencies.most_common(10)\n",
    "\n",
    "print(\"Top 10 high-frequency words after stoplist filtering:\")\n",
    "for word, frequency in top_ten_words:\n",
    "    print(f\"{word}: {frequency}\")"
   ]
  },
  {
   "cell_type": "markdown",
   "id": "9901b481",
   "metadata": {},
   "source": [
    "The word family only appeared less than twice per document on average. And it's only seventh in frequency. We will discuss this later."
   ]
  },
  {
   "cell_type": "markdown",
   "id": "7b21099c",
   "metadata": {},
   "source": [
    "First we will take a brief look at the word Christmas. Considering our theme is the Queen's Christmas Speech, Christmas will of course be a major theme. We will use lists and charts to make observations."
   ]
  },
  {
   "cell_type": "code",
   "execution_count": 124,
   "id": "b16716fa",
   "metadata": {},
   "outputs": [
    {
     "data": {
      "text/html": [
       "<div>\n",
       "<style scoped>\n",
       "    .dataframe tbody tr th:only-of-type {\n",
       "        vertical-align: middle;\n",
       "    }\n",
       "\n",
       "    .dataframe tbody tr th {\n",
       "        vertical-align: top;\n",
       "    }\n",
       "\n",
       "    .dataframe thead th {\n",
       "        text-align: right;\n",
       "    }\n",
       "</style>\n",
       "<table border=\"1\" class=\"dataframe\">\n",
       "  <thead>\n",
       "    <tr style=\"text-align: right;\">\n",
       "      <th></th>\n",
       "      <th>Year</th>\n",
       "      <th>Christmas Counts</th>\n",
       "    </tr>\n",
       "  </thead>\n",
       "  <tbody>\n",
       "    <tr>\n",
       "      <th>0</th>\n",
       "      <td>1952</td>\n",
       "      <td>11</td>\n",
       "    </tr>\n",
       "    <tr>\n",
       "      <th>1</th>\n",
       "      <td>1953</td>\n",
       "      <td>10</td>\n",
       "    </tr>\n",
       "    <tr>\n",
       "      <th>2</th>\n",
       "      <td>1954</td>\n",
       "      <td>10</td>\n",
       "    </tr>\n",
       "    <tr>\n",
       "      <th>3</th>\n",
       "      <td>1955</td>\n",
       "      <td>9</td>\n",
       "    </tr>\n",
       "    <tr>\n",
       "      <th>4</th>\n",
       "      <td>1956</td>\n",
       "      <td>11</td>\n",
       "    </tr>\n",
       "    <tr>\n",
       "      <th>...</th>\n",
       "      <td>...</td>\n",
       "      <td>...</td>\n",
       "    </tr>\n",
       "    <tr>\n",
       "      <th>67</th>\n",
       "      <td>2019</td>\n",
       "      <td>4</td>\n",
       "    </tr>\n",
       "    <tr>\n",
       "      <th>68</th>\n",
       "      <td>2020</td>\n",
       "      <td>4</td>\n",
       "    </tr>\n",
       "    <tr>\n",
       "      <th>69</th>\n",
       "      <td>2021</td>\n",
       "      <td>10</td>\n",
       "    </tr>\n",
       "    <tr>\n",
       "      <th>70</th>\n",
       "      <td>2022</td>\n",
       "      <td>3</td>\n",
       "    </tr>\n",
       "    <tr>\n",
       "      <th>71</th>\n",
       "      <td>2023</td>\n",
       "      <td>5</td>\n",
       "    </tr>\n",
       "  </tbody>\n",
       "</table>\n",
       "<p>72 rows × 2 columns</p>\n",
       "</div>"
      ],
      "text/plain": [
       "    Year  Christmas Counts\n",
       "0   1952                11\n",
       "1   1953                10\n",
       "2   1954                10\n",
       "3   1955                 9\n",
       "4   1956                11\n",
       "..   ...               ...\n",
       "67  2019                 4\n",
       "68  2020                 4\n",
       "69  2021                10\n",
       "70  2022                 3\n",
       "71  2023                 5\n",
       "\n",
       "[72 rows x 2 columns]"
      ]
     },
     "execution_count": 124,
     "metadata": {},
     "output_type": "execute_result"
    }
   ],
   "source": [
    "\n",
    "# Create the dictionary for the frequency of \"Christmas\"\n",
    "christmas_counts_data = {\n",
    "    'Year': [],\n",
    "    'Christmas Counts': []\n",
    "}\n",
    "\n",
    "for index, row in df_corpus.iterrows():\n",
    "    year = row['year']\n",
    "    content = row['WordTokensMain']  # Use \"WordTokenMain\" to calculate\n",
    "    christmas_count = content.lower().count('christmas')\n",
    "    \n",
    "    christmas_counts_data['Year'].append(year)\n",
    "    christmas_counts_data['Christmas Counts'].append(christmas_count)\n",
    "\n",
    "# Create the DataFrame\n",
    "df_christmas_counts = pd.DataFrame(christmas_counts_data)\n",
    "df_christmas_counts"
   ]
  },
  {
   "cell_type": "code",
   "execution_count": 125,
   "id": "3c66e917",
   "metadata": {},
   "outputs": [
    {
     "data": {
      "image/png": "[encoded data removed]",
      "text/plain": [
       "<Figure size 640x480 with 1 Axes>"
      ]
     },
     "metadata": {},
     "output_type": "display_data"
    }
   ],
   "source": [
    "# Plot bar graphs for better visualization\n",
    "plt.bar(df_christmas_counts['Year'], df_christmas_counts['Christmas Counts'])\n",
    "plt.xlabel('Year')\n",
    "plt.ylabel('Christmas Counts')\n",
    "plt.title('Christmas Counts in Speeches Over the Years')\n",
    "plt.show()"
   ]
  },
  {
   "cell_type": "markdown",
   "id": "4a17da57",
   "metadata": {},
   "source": [
    "We will discuss the theme of family further next.\n",
    "Though the word ‘family’ appears slightly less frequently in the speeches, an extraction of word frequencies reveals that not every year's Christmas speech includes this word. "
   ]
  },
  {
   "cell_type": "code",
   "execution_count": 127,
   "id": "e4cf0092",
   "metadata": {},
   "outputs": [
    {
     "data": {
      "image/png": "[encoded data removed]",
      "text/plain": [
       "<Figure size 640x480 with 1 Axes>"
      ]
     },
     "metadata": {},
     "output_type": "display_data"
    }
   ],
   "source": [
    "# Calculate the frequency of \"family\"\n",
    "family_counts_data = {\n",
    "    'Year': [],\n",
    "    'Family Counts': []\n",
    "}\n",
    "\n",
    "for index, row in df_corpus.iterrows():\n",
    "    year = row['year']\n",
    "    content = row['WordTokensMain']  # Also base on our great \"WordTokenMain\"\n",
    "    family_count = content.lower().count('family')\n",
    "    \n",
    "    family_counts_data['Year'].append(year)\n",
    "    family_counts_data['Family Counts'].append(family_count)\n",
    "\n",
    "df_family_counts = pd.DataFrame(family_counts_data)\n",
    "\n",
    "\n",
    "plt.bar(df_family_counts['Year'], df_family_counts['Family Counts'])\n",
    "plt.xlabel('Year')\n",
    "plt.ylabel('Family Counts')\n",
    "plt.title('Family Counts in Speeches Over the Years')\n",
    "plt.show()"
   ]
  },
  {
   "cell_type": "markdown",
   "id": "953ac8e4",
   "metadata": {},
   "source": [
    "But we have expanded the word family to include not just families, but families, childern, grandchildren, and so on. This number is going to get larger."
   ]
  },
  {
   "cell_type": "markdown",
   "id": "cb5233c4",
   "metadata": {},
   "source": [
    "Before we do that, we're going to check our list of words with the word \"grand\" in addition to the obvious ones like husband, son, daughter."
   ]
  },
  {
   "cell_type": "code",
   "execution_count": 128,
   "id": "facccad6",
   "metadata": {},
   "outputs": [
    {
     "data": {
      "text/plain": [
       "[\"'grand\",\n",
       " \"'grand-daughter\",\n",
       " \"'grandchild\",\n",
       " \"'grandchildren\",\n",
       " \"'grandchildren.for\",\n",
       " \"'grandfather\",\n",
       " \"'grandmother\",\n",
       " \"'grandparent\",\n",
       " \"'grandparents\",\n",
       " \"'great-grandfather\"]"
      ]
     },
     "execution_count": 128,
     "metadata": {},
     "output_type": "execute_result"
    }
   ],
   "source": [
    "\n",
    "# Create a set to save the words we need\n",
    "all_matching_words = set()\n",
    "\n",
    "# Search words include \"grand\"\n",
    "target_sequence = \"grand\"\n",
    "\n",
    "for index, row in df_corpus.iterrows():\n",
    "    content = row['WordTokensMain']  \n",
    "    \n",
    "    # Match words with \"grand\"\n",
    "    matching_words = [word.strip(\".,?!():;-\").lower() for word in nltk.word_tokenize(content) if target_sequence in word.lower()]\n",
    "    all_matching_words.update(matching_words)\n",
    "\n",
    "# transfer set to list\n",
    "all_matching_words_list = sorted(list(all_matching_words))\n",
    "\n",
    "all_matching_words_list"
   ]
  },
  {
   "cell_type": "markdown",
   "id": "0f8cd7b8",
   "metadata": {},
   "source": [
    "This way we make sure that we don't miss words like great-grandfather and we don't miscalculate the word \"grand\" itself.\n",
    "Next we can create a list of words related to family and count them."
   ]
  },
  {
   "cell_type": "code",
   "execution_count": 129,
   "id": "68cb8ad9",
   "metadata": {},
   "outputs": [
    {
     "name": "stdout",
     "output_type": "stream",
     "text": [
      "family: 192\n",
      "families: 59\n",
      "husband: 32\n",
      "son: 119\n",
      "daughter: 10\n",
      "child: 213\n",
      "children: 170\n",
      "grandmother: 36\n",
      "grandfather: 39\n",
      "grandchild: 31\n",
      "grandchildren: 24\n",
      "grand-daughter: 1\n",
      "grandparents: 5\n",
      "great-grandfather: 3\n"
     ]
    }
   ],
   "source": [
    "\n",
    "# Create our family words list\n",
    "target_words = [\"family\", \"families\", \"husband\", \"son\", \"daughter\", \"child\", \"children\", \"grandmother\", \"grandfather\", \"grandchild\", \"grandchildren\", \"grand-daughter\", \"grandparents\", \"great-grandfather\"]\n",
    "\n",
    "word_frequencies = Counter()\n",
    "\n",
    "for index, row in df_corpus.iterrows():\n",
    "    text_tokens = row['WordTokensMain']\n",
    "    word_frequencies.update(text_tokens)\n",
    "\n",
    "for word in target_words:\n",
    "    total_frequency = sum(df_corpus['WordTokensMain'].apply(lambda x: x.count(word)))\n",
    "    average_frequency = total_frequency / len(df_corpus)\n",
    "    print(f\"{word}: {total_frequency}\")\n",
    "    \n"
   ]
  },
  {
   "cell_type": "markdown",
   "id": "822d6ac4",
   "metadata": {},
   "source": [
    "Now we can see that the frequency of family-related words has even surpassed the frequency of Christmas. We can certainly say that \"family\" was also an important theme in the Queen's Christmas speech."
   ]
  },
  {
   "cell_type": "markdown",
   "id": "40a82437",
   "metadata": {},
   "source": [
    "For the analysis of the third theme word, \"commowealth\", we will introduce the second research question."
   ]
  },
  {
   "cell_type": "markdown",
   "id": "7b56d80f",
   "metadata": {},
   "source": [
    "### Research Question 2:\n",
    "When did the term 'empire' change into 'commonwealth'? And what terms are the most associated with both?\n"
   ]
  },
  {
   "cell_type": "markdown",
   "id": "217e73d2",
   "metadata": {},
   "source": [
    "When we talk about commonwelath, we can't avoid this: the progression from the Empire of Great Britain to the Commonwealth.\n",
    "As we all know, the issuance of the Singapore Declaration in 1971 signified the shift of the Commonwealth from the colonial system of the past to a more egalitarian and cooperative international organization. The word ‘empire’ occurs very infrequently in the Queen's speeches as it encompasses a more colonial meaning. "
   ]
  },
  {
   "cell_type": "code",
   "execution_count": 130,
   "id": "47595629",
   "metadata": {},
   "outputs": [
    {
     "name": "stdout",
     "output_type": "stream",
     "text": [
      "empire: 9\n"
     ]
    }
   ],
   "source": [
    "# Create the target word list\n",
    "target_words = [\"empire\"]\n",
    "\n",
    "word_frequencies = Counter()\n",
    "\n",
    "for index, row in df_corpus.iterrows():\n",
    "    text_tokens = row['WordTokensMain']\n",
    "    word_frequencies.update(text_tokens)\n",
    "\n",
    "# Print result\n",
    "for word in target_words:\n",
    "    total_frequency = sum(df_corpus['WordTokensMain'].apply(lambda x: x.count(word)))\n",
    "    average_frequency = total_frequency / len(df_corpus)\n",
    "    print(f\"{word}: {total_frequency}\")"
   ]
  },
  {
   "cell_type": "markdown",
   "id": "a9d7fc5d",
   "metadata": {},
   "source": [
    "By analyzing the Queen's speeches, we can see that the word ‘empire’ undergoes a gradual replacement by the concept of the Commonwealth after the 1950s.\n",
    "In addition, we will also include the word \"world\" as a reference in the comparative analysis, in order to better observe the impact of world politics on the Queen's Speech."
   ]
  },
  {
   "cell_type": "code",
   "execution_count": 131,
   "id": "165f9b94",
   "metadata": {},
   "outputs": [
    {
     "data": {
      "image/png": "[encoded data removed]",
      "text/plain": [
       "<Figure size 640x480 with 1 Axes>"
      ]
     },
     "metadata": {},
     "output_type": "display_data"
    }
   ],
   "source": [
    "\n",
    "# Create the target words list\n",
    "target_words = [\"commonwealth\", \"world\", \"empire\"]\n",
    "\n",
    "df_occurrences = pd.DataFrame(index=df_corpus['year'], columns=target_words)\n",
    "df_occurrences = df_occurrences.fillna(0)\n",
    "\n",
    "for index, row in df_corpus.iterrows():\n",
    "    year = row['year']\n",
    "    text_tokens = row['WordTokensMain']\n",
    "    for word in target_words:\n",
    "        df_occurrences.at[year, word] += text_tokens.count(word.lower())\n",
    "\n",
    "# Plotting line graphs, so we can see the trend easily\n",
    "for word in target_words:\n",
    "    plt.plot(df_occurrences.index, df_occurrences[word], marker='o', label=word)\n",
    "\n",
    "plt.title('Distribution of Keywords over the Years')\n",
    "plt.xlabel('Year')\n",
    "plt.ylabel('Occurrences')\n",
    "plt.legend()\n",
    "plt.grid(True)\n",
    "plt.show()"
   ]
  },
  {
   "cell_type": "markdown",
   "id": "aa7c05ed",
   "metadata": {},
   "source": [
    "In some special years, the Queen still mentions \"empire\" several times. In order to analyze this further, we will extract the relevant sentences in order to confirm the context."
   ]
  },
  {
   "cell_type": "code",
   "execution_count": 132,
   "id": "5c059c59",
   "metadata": {},
   "outputs": [
    {
     "name": "stdout",
     "output_type": "stream",
     "text": [
      "Year: 1952\n",
      "Sentence: but', 'we', 'belong', 'you', 'and', 'i', 'to', 'a', 'far', 'larger', 'family'], ['we', 'belong', 'all', 'of', 'us', 'to', 'the', 'british', 'commonwealth', 'and', 'empire', 'that', 'immense', 'union', 'of', 'nations', 'with', 'their', 'homes', 'set', 'in', 'all', 'the', 'four', 'corners', 'of', 'the', 'earth'], ['like', 'our', 'own', 'families', 'it', 'can', 'be', 'a', 'great', 'power', 'for', 'good', '-', 'a', 'force', 'which', 'i', 'believe', 'can', 'be', 'of', 'immeasurable', 'benefit', 'to', 'all', 'humanity\n",
      "\n",
      "Year: 1952\n",
      "Sentence: at', 'my', 'coronation', 'next', 'june', 'i', 'shall', 'dedicate', 'myself', 'anew', 'to', 'your', 'service'], ['i', 'shall', 'do', 'so', 'in', 'the', 'presence', 'of', 'a', 'great', 'congregation', 'drawn', 'from', 'every', 'part', 'of', 'the', 'commonwealth', 'and', 'empire', 'while', 'millions', 'outside', 'westminster', 'abbey', 'will', 'hear', 'the', 'promises', 'and', 'the', 'prayers', 'being', 'offered', 'up', 'within', 'its', 'walls', 'and', 'see', 'much', 'of', 'the', 'ancient', 'ceremony', 'in', 'which', 'kings', 'and', 'queens', 'before', 'me', 'have', 'taken', 'part', 'through', 'century', 'upon', 'century\n",
      "\n",
      "Year: 1953\n",
      "Sentence: so', 'this', 'will', 'be', 'a', 'voyage', 'right', 'round', 'the', 'world', '-', 'the', 'first', 'that', 'a', 'queen', 'of', 'england', 'has', 'been', 'privileged', 'to', 'make', 'as', 'queen'], ['but', 'what', 'is', 'really', 'important', 'to', 'me', 'is', 'that', 'i', 'set', 'out', 'on', 'this', 'journey', 'in', 'order', 'to', 'see', 'as', 'much', 'as', 'possible', 'of', 'the', 'people', 'and', 'countries', 'of', 'the', 'commonwealth', 'and', 'empire', 'to', 'learn', 'at', 'first', 'hand', 'something', 'of', 'their', 'triumphs', 'and', 'difficulties', 'and', 'something', 'of', 'their', 'hopes', 'and', 'fears\n",
      "\n",
      "Year: 1953\n",
      "Sentence: little', 'did', 'those', 'adventurous', 'heroes', 'of', 'tudor', 'and', 'stuart', 'times', 'realise', 'what', 'would', 'grow', 'from', 'the', 'settlements', 'which', 'they', 'and', 'later', 'pioneers', 'founded'], ['from', 'the', 'empire', 'of', 'which', 'they', 'built', 'the', 'frame', 'there', 'has', 'arisen', 'a', 'world-wide', 'fellowship', 'of', 'nations', 'of', 'a', 'type', 'never', 'seen', 'before\n",
      "\n",
      "Year: 1953\n",
      "Sentence: but', 'their', 'greatest', 'achievement', 'i', 'suggest', 'is', 'the', 'commonwealth', 'itself', 'and', 'that', 'owes', 'much', 'to', 'all', 'of', 'them'], ['thus', 'formed', 'the', 'commonwealth', 'bears', 'no', 'resemblance', 'to', 'the', 'empires', 'of', 'the', 'past'], ['it', 'is', 'an', 'entirely', 'new', 'conception', 'built', 'on', 'the', 'highest', 'qualities', 'of', 'the', 'spirit', 'of', 'man', 'friendship', 'loyalty', 'and', 'the', 'desire', 'for', 'freedom', 'and', 'peace\n",
      "\n",
      "Year: 1955\n",
      "Sentence: adventure', 'on', 'for', 'from', 'the', 'littlest', 'clue', 'has', 'come', 'whatever', 'worth', 'man', 'ever', 'knew', 'the', 'next', 'to', 'lighten', 'all', 'men', 'may', 'be', 'you'], ['we', 'must', 'adventure', 'on', 'if', 'we', 'are', 'to', 'make', 'the', 'world', 'a', 'better', 'place'], ['all', 'my', 'peoples', 'of', 'the', 'commonwealth', 'and', 'empire', 'have', 'their', 'part', 'to', 'play', 'in', 'this', 'voyage', 'of', 'discovery'], ['we', 'travel', 'all', 'together', 'just', 'as', 'the', 'maori', 'tribes', 'sailed', 'all', 'together', 'into', 'the', 'mysterious', 'south', 'pacific', 'to', 'find', 'new', 'zealand\n",
      "\n",
      "Year: 1992\n",
      "Sentence: my', 'great-grandfather', 'king', 'edward', 'vii', 'made', 'sandringham', 'his', 'country', 'home', 'in', '1862', 'and', 'it', 'was', 'from', 'this', 'house', 'that', 'my', 'grandfather', 'king', 'george', 'v', 'and', 'my', 'father', 'used', 'to', 'speak', 'over', 'the', 'radio', '-', 'originally', 'to', 'the', 'empire', 'and', 'then', 'to', 'the', 'commonwealth', '-', 'on', 'christmas', 'day', 'all', 'those', 'years', 'ago\n",
      "\n",
      "Year: 1997\n",
      "Sentence: the', 'prince', 'of', 'wales', 'represented', 'britain', 'when', 'the', 'people', 'of', 'hong', 'kong', 'marked', 'their', 'return', 'to', 'china', '-', 'in', 'spectacular', 'fashion'], ['many', 'of', 'you', 'might', 'have', 'felt', 'a', 'twinge', 'of', 'sadness', 'as', 'we', 'in', 'britain', 'bade', 'them', 'farewell', 'but', 'we', 'should', 'be', 'proud', 'of', 'the', 'success', 'of', 'our', 'partnership', 'in', 'hong', 'kong', 'and', 'in', 'how', 'peacefully', 'the', 'old', 'empire', 'has', 'been', 'laid', 'to', 'rest\n",
      "\n",
      "Year: 1997\n",
      "Sentence: out', 'of', 'the', 'old', 'empire', 'sprang', 'the', 'commonwealth', 'family', 'of', 'nations', 'that', 'we', 'know', 'today', 'and', 'that', 'too', 'has', 'grown', 'and', 'changed', 'over', 'the', 'years\n",
      "\n"
     ]
    }
   ],
   "source": [
    "# define a function to extract sentences that contain the corresponding word from the target column\n",
    "target_column = 'SentenceTokensMain'\n",
    "\n",
    "def extract_sentences_with_word(content, target_word):\n",
    "    sentences = content.split('.')  # split sentences with \".\"\n",
    "    occurrences = []\n",
    "\n",
    "    for sentence in sentences:\n",
    "        if target_word.lower() in sentence.lower():\n",
    "            occurrences.append(sentence.strip())\n",
    "\n",
    "    return occurrences\n",
    "\n",
    "target_word = \"empire\"\n",
    "\n",
    "df_corpus['SentencesWithKeyword'] = df_corpus[target_column].apply(lambda x: extract_sentences_with_word(x, target_word))\n",
    "\n",
    "# Print the results, excluding NaN\n",
    "for index, row in df_corpus.iterrows():\n",
    "    year = row['year']\n",
    "    sentences = row['SentencesWithKeyword']\n",
    "    \n",
    "    if sentences:\n",
    "        for sentence in sentences:\n",
    "            print(f\"Year: {year}\\nSentence: {sentence}\\n\")\n"
   ]
  },
  {
   "cell_type": "markdown",
   "id": "293d6885",
   "metadata": {},
   "source": [
    "The Queen used the word ‘empire’ six times between 1952-1955. Four of these were references to ‘commonwealth and empire’. Considering the colonial overtones embedded in the term ‘empire’, the comparison of the ‘Commonwealth’ to ‘empire’ illustrates, on the one hand, the fading of colonialism and, on the other hand, the continued existence of the concept of empire in equal measure.\n"
   ]
  },
  {
   "cell_type": "markdown",
   "id": "6dd6c14c",
   "metadata": {},
   "source": [
    "Since then, the Queen had mentioned the word ‘empire’ again in 1992, in her fortieth Christmas speech. As a result of looking back over the last forty years, and the times of her father and grandfather, she inevitably used the word ‘empire’. She described the process she had experienced in moving from ‘empire’ to the ‘Commonwealth’. Clearly this is a story of old concepts being replaced by new ones.\n",
    "And in 1997, she again used the word ‘empire’ twice. It contains a stronger sense of the past. Her use of the term ‘old empire’ may be related to the fact that in 1997, Hong Kong, the last British colony, was returned to China. Since then all the colonies of the old empire have ceased to exist. It was also the last time the word ‘empire’ was used in the Queen's speeches.\n"
   ]
  },
  {
   "cell_type": "markdown",
   "id": "127ddd51",
   "metadata": {},
   "source": [
    "In order to further validate the relationship between \"empire\" and \"commonwealth\", we will identify the themes of the presentations for these five years. For this we will extract the high frequency words of the speeches of these five years."
   ]
  },
  {
   "cell_type": "code",
   "execution_count": 133,
   "id": "9425f3ba",
   "metadata": {},
   "outputs": [
    {
     "name": "stdout",
     "output_type": "stream",
     "text": [
      "\n",
      "Year: 1952\n",
      "christmas: 11\n",
      "spirit: 6\n",
      "shall: 6\n",
      "message: 4\n",
      "people: 4\n",
      "today: 4\n",
      "family: 4\n",
      "day: 4\n",
      "great: 4\n",
      "old: 4\n",
      "\n",
      "Year: 1953\n",
      "christmas: 10\n",
      "commonwealth: 10\n",
      "new: 8\n",
      "great: 8\n",
      "world: 6\n",
      "people: 6\n",
      "nations: 6\n",
      "today: 5\n",
      "time: 5\n",
      "hope: 5\n",
      "\n",
      "Year: 1955\n",
      "christmas: 9\n",
      "year: 7\n",
      "world: 6\n",
      "new: 6\n",
      "power: 5\n",
      "commonwealth: 5\n",
      "great: 4\n",
      "people: 4\n",
      "adventure: 4\n",
      "today: 4\n",
      "\n",
      "Year: 1992\n",
      "christmas: 10\n",
      "commonwealth: 8\n",
      "year: 6\n",
      "people: 6\n",
      "family: 5\n",
      "great: 5\n",
      "country: 4\n",
      "make: 4\n",
      "help: 4\n",
      "'s: 4\n",
      "\n",
      "Year: 1997\n",
      "people: 7\n",
      "world: 6\n",
      "commonwealth: 6\n",
      "christmas: 6\n",
      "joy: 5\n",
      "family: 5\n",
      "service: 5\n",
      "old: 5\n",
      "today: 5\n",
      "christian: 4\n"
     ]
    }
   ],
   "source": [
    "\n",
    "# build the list of the years we would like to work on\n",
    "interest_years = [1952, 1953, 1955, 1992, 1997]\n",
    "\n",
    "# Create the dictionary to save the top words of each year\n",
    "top_words_dict = {}\n",
    "\n",
    "for index, row in df_corpus.iterrows():\n",
    "    year = row['year']\n",
    "    if year in interest_years:\n",
    "        words = eval(row['WordTokensMain'])\n",
    "        \n",
    "        word_counter = Counter(words)\n",
    "        \n",
    "        for stopword in stoplist:\n",
    "            if stopword in word_counter:\n",
    "                del word_counter[stopword]\n",
    "\n",
    "        top_words = word_counter.most_common(10)\n",
    "        top_words_dict[year] = top_words\n",
    "\n",
    "# Print results\n",
    "for year, top_words in top_words_dict.items():\n",
    "    print(f\"\\nYear: {year}\")\n",
    "    for word, frequency in top_words:\n",
    "        print(f\"{word}: {frequency}\")\n"
   ]
  },
  {
   "cell_type": "markdown",
   "id": "d99cc965",
   "metadata": {},
   "source": [
    "With the exception of the 40th anniversary speech in 1992, which was quite special, we can see that \"commonwealth\" has been an important theme in every year's speech. Words such as \"nation\" and \"world\" have also been mentioned throughout the years. In the 1997 speech, in view of the importance of Hong Kong as the last colony, the word \"old\" appeared four times, which is also worth noting."
   ]
  },
  {
   "cell_type": "markdown",
   "id": "56a9249e",
   "metadata": {},
   "source": [
    "Although in the Queen's speeches, ‘empire’ always appears in conjunction with words like ‘past’ and ‘old’, we can still see traces of the gradual replacement of the word ‘empire’ by ‘Commonwealth’ in the changes to the decades."
   ]
  },
  {
   "cell_type": "markdown",
   "id": "b33e38f0",
   "metadata": {},
   "source": [
    "Aside from the turnover of these two terms, are there any other trends that have changed in speeches over the years?\n",
    "To this we will ask a third question: whether the readability of the speech has changed over the entire 72 Christmas speeches.\n"
   ]
  },
  {
   "cell_type": "markdown",
   "id": "d63b8411",
   "metadata": {},
   "source": [
    "### Research Question 3:\n",
    "What does readability analysis tell us?"
   ]
  },
  {
   "cell_type": "markdown",
   "id": "7f2e55dc",
   "metadata": {},
   "source": [
    "In the module of readability analysis, we use the Coleman Liau index.\n",
    "First we start by analyzing the readability of the 72 txt files."
   ]
  },
  {
   "cell_type": "code",
   "execution_count": 134,
   "id": "8a6b7662",
   "metadata": {},
   "outputs": [
    {
     "name": "stdout",
     "output_type": "stream",
     "text": [
      "    year  Coleman–Liau Index\n",
      "0   1952            8.579504\n",
      "1   1953            9.516686\n",
      "2   1954            9.763320\n",
      "3   1955            8.917052\n",
      "4   1956            8.937512\n",
      "..   ...                 ...\n",
      "67  2019            8.977548\n",
      "68  2020            7.720501\n",
      "69  2021            7.640562\n",
      "70  2022            7.437341\n",
      "71  2023            6.275027\n",
      "\n",
      "[72 rows x 2 columns]\n"
     ]
    }
   ],
   "source": [
    "# Define a funtion to use Coleman Liau index to calculate the Readability\n",
    "def calculate_coleman_liau_index(text):\n",
    "    sentences = nltk.sent_tokenize(text)\n",
    "\n",
    "    char_count = sum(len(word) for word in text if word.isalnum())\n",
    "    word_count = len(nltk.word_tokenize(text))\n",
    "    sentence_count = len(sentences)\n",
    "\n",
    "    # calculate the Coleman–Liau index\n",
    "    index = 0.0588 * (char_count / word_count * 100) - 0.296 * (sentence_count / word_count * 100) - 15.8\n",
    "\n",
    "    return index\n",
    "\n",
    "df_corpus['Coleman–Liau Index'] = df_corpus['CleanedMainText'].apply(calculate_coleman_liau_index)\n",
    "\n",
    "print(df_corpus[['year', 'Coleman–Liau Index']])\n"
   ]
  },
  {
   "cell_type": "markdown",
   "id": "850e3ffa",
   "metadata": {},
   "source": [
    "Next we will extract the hardest and easiest speeches to read."
   ]
  },
  {
   "cell_type": "code",
   "execution_count": 135,
   "id": "c1a83cd3",
   "metadata": {},
   "outputs": [
    {
     "name": "stdout",
     "output_type": "stream",
     "text": [
      "Easiest: \n",
      "    Year  Coleman–Liau Index\n",
      "57  2009           13.124692\n",
      "31  1983           12.260957\n",
      "30  1982           12.101578\n",
      "27  1979           11.870853\n",
      "24  1976           11.844044\n",
      "16  1968           11.736063\n",
      "15  1967           11.693263\n",
      "20  1972           11.616818\n",
      "8   1960           11.597417\n",
      "58  2010           11.570799\n",
      "\n",
      "Hardest: \n",
      "    Year  Coleman–Liau Index\n",
      "19  1971            8.264812\n",
      "7   1959            8.505512\n",
      "0   1952            8.892312\n",
      "26  1978            8.914856\n",
      "71  2023            9.048280\n",
      "34  1986            9.107195\n",
      "17  1969            9.127757\n",
      "5   1957            9.224928\n",
      "40  1992            9.238372\n",
      "63  2015            9.317997\n"
     ]
    }
   ],
   "source": [
    "\n",
    "most_readable = df.nlargest(10, 'Coleman–Liau Index')\n",
    "least_readable = df.nsmallest(10, 'Coleman–Liau Index')\n",
    "\n",
    "print(\"Easiest: \")\n",
    "print(most_readable)\n",
    "\n",
    "print(\"\\nHardest: \")\n",
    "print(least_readable)"
   ]
  },
  {
   "cell_type": "markdown",
   "id": "f3f1cb72",
   "metadata": {},
   "source": [
    "In addition to this, we plotted line graphs of the change in readability for each year, and included the most readable and most difficult to read scatter plots to visualize the results of our analysis."
   ]
  },
  {
   "cell_type": "code",
   "execution_count": 136,
   "id": "b35dceb4",
   "metadata": {},
   "outputs": [
    {
     "data": {
      "image/png": "[encoded data removed]",
      "text/plain": [
       "<Figure size 640x480 with 1 Axes>"
      ]
     },
     "metadata": {},
     "output_type": "display_data"
    }
   ],
   "source": [
    "\n",
    "plt.plot(df['Year'], df['Coleman–Liau Index'], label='All Speeches')\n",
    "plt.scatter(most_readable['Year'], most_readable['Coleman–Liau Index'], color='green', label='Most Readable')\n",
    "plt.scatter(least_readable['Year'], least_readable['Coleman–Liau Index'], color='red', label='Least Readable')\n",
    "\n",
    "plt.title('Coleman–Liau Index over the Years')\n",
    "plt.xlabel('Year')\n",
    "plt.ylabel('Coleman–Liau Index')\n",
    "plt.legend()\n",
    "\n",
    "plt.show()"
   ]
  },
  {
   "cell_type": "markdown",
   "id": "a685cd22",
   "metadata": {},
   "source": [
    "Although the most readable speeches are more evenly distributed, the most difficult to read speeches are clearly concentrated mainly before 1995 and less volatile these years. And of the top ten hardest to read speeches, only two speeches are after 1995 (which also includes Charles IV's speech in 2023).\n",
    "So we can see that the royal family has really made an effort in recent years to make itself more accessible to the people, this trend in readability illustrates this."
   ]
  },
  {
   "cell_type": "code",
   "execution_count": null,
   "id": "9773865a",
   "metadata": {},
   "outputs": [],
   "source": []
  }
 ],
 "metadata": {
  "kernelspec": {
   "display_name": "Python 3 (ipykernel)",
   "language": "python",
   "name": "python3"
  },
  "language_info": {
   "codemirror_mode": {
    "name": "ipython",
    "version": 3
   },
   "file_extension": ".py",
   "mimetype": "text/x-python",
   "name": "python",
   "nbconvert_exporter": "python",
   "pygments_lexer": "ipython3",
   "version": "3.11.5"
  }
 },
 "nbformat": 4,
 "nbformat_minor": 5
}
